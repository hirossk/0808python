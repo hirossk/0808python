{
  "nbformat": 4,
  "nbformat_minor": 0,
  "metadata": {
    "colab": {
      "provenance": [],
      "include_colab_link": true
    },
    "kernelspec": {
      "name": "python3",
      "display_name": "Python 3"
    },
    "language_info": {
      "name": "python"
    }
  },
  "cells": [
    {
      "cell_type": "markdown",
      "metadata": {
        "id": "view-in-github",
        "colab_type": "text"
      },
      "source": [
        "<a href=\"https://colab.research.google.com/github/hirossk/0808python/blob/main/0808%E3%82%B0%E3%83%A9%E3%83%95%EF%BC%86API.ipynb\" target=\"_parent\"><img src=\"https://colab.research.google.com/assets/colab-badge.svg\" alt=\"Open In Colab\"/></a>"
      ]
    },
    {
      "cell_type": "markdown",
      "metadata": {
        "id": "9BzC2rrkI0Y6"
      },
      "source": [
        "\n",
        "# Pythonによるグラフ\n",
        "\n",
        "データの取り扱いとグラフを作成する方法を確認しましょう。\n",
        "\n"
      ]
    },
    {
      "cell_type": "markdown",
      "source": [
        "## グラフ入門\n",
        "\n",
        "### matplotlib\n",
        "matplotlibを使ってグラフを書くことができます。\n",
        "\n",
        "詳しい情報は以下のサイトがまとまっています。\n",
        "\n",
        "https://qiita.com/DeepTama/items/dfb714f155b529711109\n",
        "\n",
        "https://qiita.com/nkay/items/d1eb91e33b9d6469ef51\n",
        "\n",
        "https://qiita.com/Shmwa2/items/8f0d337c0bfb75a8716f\n"
      ],
      "metadata": {
        "id": "GFpL77ASF7xf"
      }
    },
    {
      "cell_type": "markdown",
      "source": [
        "最初に環境設定をしておきます。"
      ],
      "metadata": {
        "id": "Bgobh7M2hVnY"
      }
    },
    {
      "cell_type": "code",
      "source": [
        "# 日本語グラフを表示するために必要なライブラリのインストール\n",
        "!pip install japanize_matplotlib\n",
        "import japanize_matplotlib"
      ],
      "metadata": {
        "id": "MnHE2yvqYnut"
      },
      "execution_count": null,
      "outputs": []
    },
    {
      "cell_type": "markdown",
      "source": [
        "シンプルに棒グラフ（bar）を作成してみましょう。\n",
        "Excelと同じくグラフの装飾をしていきます。"
      ],
      "metadata": {
        "id": "9EbYaWFueB96"
      }
    },
    {
      "cell_type": "markdown",
      "source": [
        "ここでは横軸の軸ラベルと値を指定してグラフ化してみます。"
      ],
      "metadata": {
        "id": "cDZRPlNJgum1"
      }
    },
    {
      "cell_type": "markdown",
      "source": [
        "折れ線グラフ(plot)"
      ],
      "metadata": {
        "id": "nDDsQ5ag04wH"
      }
    },
    {
      "cell_type": "markdown",
      "source": [
        "散布図（scatter）"
      ],
      "metadata": {
        "id": "2q9KCvOkzczN"
      }
    },
    {
      "cell_type": "code",
      "source": [
        "import matplotlib.pyplot as plt\n",
        "\n",
        "# 散布図\n",
        "# x,y軸のデータを提供します。\n",
        "plt.scatter([10 ,50 ,80 ,30],[40, 50, 20, 80] )\n",
        "\n",
        "plt.show()"
      ],
      "metadata": {
        "id": "9XP_aCE_0fRj"
      },
      "execution_count": null,
      "outputs": []
    },
    {
      "cell_type": "markdown",
      "source": [
        "円グラフ（pie）"
      ],
      "metadata": {
        "id": "_F1yCT53v0OL"
      }
    },
    {
      "cell_type": "code",
      "source": [
        "import matplotlib.pyplot as plt\n",
        "\n",
        "# 円グラフ\n",
        "# 開始位置の設定とラベル付けを行う\n",
        "# plt.pie([40 ,30 ,20 ,10],startangle=90, labels = ['A型','O型','B型','AB形'] )\n",
        "# 表示を時計回りにして割合も出しましょう\n",
        "plt.pie([40 ,30 ,20 ,10],startangle=90, labels = ['A型','O型','B型','AB形'] ,\n",
        "        autopct=\"%1.1f%%\",counterclock=False)\n",
        "\n",
        "plt.show()"
      ],
      "metadata": {
        "id": "glkcvz9owKfk"
      },
      "execution_count": null,
      "outputs": []
    },
    {
      "cell_type": "markdown",
      "source": [
        "ほかにもグラフがありますが、「matplotlib グラフ種類」で検索すると情報が得られます。\n"
      ],
      "metadata": {
        "id": "jS_md7Nlef2g"
      }
    },
    {
      "cell_type": "markdown",
      "source": [
        "次に棒グラフに戻り、詳細設定を行います。\n",
        "\n",
        "まずは軸ラベルの設定から行います。"
      ],
      "metadata": {
        "id": "cE2yVWAt1vwQ"
      }
    },
    {
      "cell_type": "markdown",
      "source": [
        "凡例の表示を行います。"
      ],
      "metadata": {
        "id": "UFKg6vIYe5-I"
      }
    },
    {
      "cell_type": "markdown",
      "source": [
        "グラフにタイトルを設定します。"
      ],
      "metadata": {
        "id": "UBhKosNbk450"
      }
    },
    {
      "cell_type": "code",
      "source": [
        "import matplotlib.pyplot as plt\n",
        "\n",
        "\n",
        "plt.pie([40 ,30 ,20 ,10],startangle=90, labels = ['A型','O型','B型','AB型'] ,\n",
        "        autopct=\"%1.1f%%\",counterclock=False)\n",
        "# タイトルの設定\n",
        "plt.title('このグラフはなんですか？')\n",
        "\n",
        "# 凡例の表示をします。\n",
        "plt.legend()\n",
        "\n",
        "plt.show()"
      ],
      "metadata": {
        "id": "fdpjBxOGk78W"
      },
      "execution_count": null,
      "outputs": []
    },
    {
      "cell_type": "markdown",
      "source": [
        "複数系列を追加するにはラベルの見出しとデータを設定します。"
      ],
      "metadata": {
        "id": "CyuOiJTBlZfn"
      }
    },
    {
      "cell_type": "code",
      "source": [
        "import matplotlib.pyplot as plt\n",
        "\n",
        "# 棒グラフをx軸のラベルを設定して表示します。\n",
        "# 棒グラフにはグラフの軸ラベル（x）とデータ(height)が必須となります。\n",
        "# 凡例はlabel引数で指定します。\n",
        "# first系列の指定、基準に対してマイナス位置とします。\n",
        "plt.bar(x = ['one','two','three','four'],height = [10,50,80,30],\n",
        "        align = 'edge', width = -0.3,label = 'A組')\n",
        "# second系列の指定、基準に対してプラス位置とします。\n",
        "plt.bar(x = ['one','two','three','four'],height = [20,30,40,50],\n",
        "        align = 'edge' , width = 0.3,label = 'B組')\n",
        "\n",
        "# タイトルの設定\n",
        "plt.title('Graph Title')\n",
        "\n",
        "# X軸ラベルの表示\n",
        "plt.xlabel('X labels')\n",
        "# Y軸ラベルの表示\n",
        "plt.ylabel('Y labels')\n",
        "\n",
        "# 凡例の表示をします。\n",
        "plt.legend()\n",
        "\n",
        "plt.show()\n"
      ],
      "metadata": {
        "id": "5zyFppTDlbWA"
      },
      "execution_count": null,
      "outputs": []
    },
    {
      "cell_type": "markdown",
      "source": [
        "積み上げ棒グラフ"
      ],
      "metadata": {
        "id": "NEAUviONoekY"
      }
    },
    {
      "cell_type": "code",
      "source": [
        "import matplotlib.pyplot as plt\n",
        "\n",
        "# 棒グラフをx軸のラベルを設定して表示します。\n",
        "# 棒グラフにはグラフの軸ラベル（x）とデータ(height)が必須となります。\n",
        "# 凡例はlabel引数で指定します。\n",
        "# first系列の指定\n",
        "plt.bar(x = ['one','two','three','four'],height = [10,50,80,30],\n",
        "        label = 'first')\n",
        "\n",
        "# second系列の指定(開始位置（bottom）を第一系列にします。)\n",
        "plt.bar(x = ['one','two','three','four'],height = [20,30,40,50],\n",
        "        bottom = [10,50,80,30] ,label = 'second')\n",
        "\n",
        "# タイトルの設定\n",
        "plt.title('Graph Title')\n",
        "\n",
        "# X軸ラベルの表示\n",
        "plt.xlabel('X labels')\n",
        "# Y軸ラベルの表示\n",
        "plt.ylabel('Y labels')\n",
        "\n",
        "# 凡例の表示をします。\n",
        "plt.legend()\n",
        "\n",
        "plt.show()"
      ],
      "metadata": {
        "id": "WkRgCgfMoibW"
      },
      "execution_count": null,
      "outputs": []
    },
    {
      "cell_type": "markdown",
      "source": [
        "データ系列の値を表示します。"
      ],
      "metadata": {
        "id": "mHWaGYc-oOiG"
      }
    },
    {
      "cell_type": "code",
      "source": [
        "import matplotlib.pyplot as plt\n",
        "\n",
        "# 棒グラフをx軸のラベルを設定して表示します。\n",
        "# 棒グラフにはグラフの軸ラベル（x）とデータ(height)が必須となります。\n",
        "# 凡例はlabel引数で指定します。\n",
        "# first系列の指定\n",
        "one = plt.bar(x = ['one','two','three','four'],height = [10,50,80,30],\n",
        "        label = 'first')\n",
        "# second系列の指定(開始位置を第一系列にします。)\n",
        "\n",
        "two = plt.bar(x = ['one','two','three','four'],height = [20,30,40,50],\n",
        "        bottom = [10,50,80,30] ,label = 'second')\n",
        "\n",
        "# タイトルの設定\n",
        "plt.title('Graph Title')\n",
        "\n",
        "# X軸ラベルの表示\n",
        "plt.xlabel('X labels')\n",
        "# Y軸ラベルの表示\n",
        "plt.ylabel('Y labels')\n",
        "\n",
        "# 凡例の表示をします。\n",
        "plt.legend()\n",
        "\n",
        "# label_typeに'center'以外に'edge'を設定できます。\n",
        "plt.bar_label(one , padding=0, fontsize=14, label_type='edge')\n",
        "plt.bar_label(two , padding=0, fontsize=14, label_type='edge')\n",
        "\n",
        "plt.show()\n",
        "\n"
      ],
      "metadata": {
        "id": "fViMCF49pqWR"
      },
      "execution_count": null,
      "outputs": []
    },
    {
      "cell_type": "markdown",
      "metadata": {
        "id": "i1cQhb4EkPku"
      },
      "source": [
        "#WebAPIによるデータ利用\n",
        "\n",
        "札幌市の国勢調査データを利用してみましょう。\n",
        "\n",
        "https://ckan.pf-sapporo.jp/dataset/suikeijinkou\n"
      ]
    },
    {
      "cell_type": "code",
      "metadata": {
        "id": "35gKUrRwkWA-"
      },
      "source": [
        "import urllib\n",
        "import urllib.request\n",
        "import json\n",
        "\n",
        "url = 'https://ckan.pf-sapporo.jp/api/3/action/datastore_search?resource_id=710b0236-6b28-441e-8500-f5c9be2e4c4a'\n",
        "response = urllib.request.urlopen(url)\n",
        "content = json.loads(response.read().decode('utf8'))\n",
        "\n",
        "print(content)"
      ],
      "execution_count": null,
      "outputs": []
    },
    {
      "cell_type": "code",
      "metadata": {
        "id": "LxNlJLe4kcrR"
      },
      "source": [
        "import urllib\n",
        "import urllib.request\n",
        "import json\n",
        "\n",
        "url = 'https://ckan.pf-sapporo.jp/api/3/action/datastore_search?resource_id=710b0236-6b28-441e-8500-f5c9be2e4c4a'\n",
        "response = urllib.request.urlopen(url)\n",
        "content = json.loads(response.read().decode('utf8'))\n",
        "\n",
        "#値を取り出すための変数を用意\n",
        "recode = content[\"result\"][\"records\"][2]\n",
        "for k, v in recode.items():\n",
        "    print(k + \":\" + str(v))"
      ],
      "execution_count": null,
      "outputs": []
    },
    {
      "cell_type": "code",
      "metadata": {
        "id": "GHMaXwvXkgTL"
      },
      "source": [
        "import urllib\n",
        "import urllib.request\n",
        "import json\n",
        "import re\n",
        "import matplotlib.pyplot as plt\n",
        "import japanize_matplotlib\n",
        "\n",
        "url = 'https://ckan.pf-sapporo.jp/api/3/action/datastore_search?resource_id=710b0236-6b28-441e-8500-f5c9be2e4c4a'\n",
        "response = urllib.request.urlopen(url)\n",
        "content = json.loads(response.read().decode('utf8'))\n",
        "\n",
        "#値を取り出すための変数を用意\n",
        "recode = content[\"result\"][\"records\"][2]\n",
        "#データラベルを初期化\n",
        "label = []\n",
        "#グラフデータを初期化\n",
        "data = []\n",
        "\n",
        "listdata = list(recode.items())\n",
        "listdata.pop(0)\n",
        "listdata.pop(0)\n",
        "for k, v in listdata:\n",
        "    l = re.search('[0-9]+年', k).group()\n",
        "    label.append(l)\n",
        "    v = v.replace(',','')\n",
        "    n = int(re.search('[0-9]+', v).group())\n",
        "    data.append(n*1000)\n",
        "print(label, data)\n",
        "x = [ 1, 2, 3, 4, 5, 6, 7 ]\n",
        "plt.bar( x, data ,tick_label = label)\n",
        "\n",
        "plt.show()"
      ],
      "execution_count": null,
      "outputs": []
    },
    {
      "cell_type": "code",
      "metadata": {
        "id": "hcHUMK0Skm-J"
      },
      "source": [
        "import urllib\n",
        "import urllib.request\n",
        "import json\n",
        "#全国JSONはこちらからhttps://www.jma.go.jp/bosai/forecast/data/forecast/010000.json\n",
        "#詳細データ\n",
        "url = 'https://www.jma.go.jp/bosai/forecast/data/forecast/016000.json'\n",
        "#概況\n",
        "url = 'https://www.jma.go.jp/bosai/forecast/data/overview_forecast/016000.json'\n",
        "response = urllib.request.urlopen(url)\n",
        "content = json.loads(response.read().decode('utf8'))\n",
        "\n",
        "#概況の表示\n",
        "print(content[\"text\"])"
      ],
      "execution_count": null,
      "outputs": []
    }
  ]
}