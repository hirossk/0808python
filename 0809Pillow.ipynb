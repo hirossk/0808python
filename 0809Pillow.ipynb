{
  "cells": [
    {
      "cell_type": "markdown",
      "metadata": {
        "id": "view-in-github",
        "colab_type": "text"
      },
      "source": [
        "<a href=\"https://colab.research.google.com/github/hirossk/0809python/blob/main/0809Pillow.ipynb\" target=\"_parent\"><img src=\"https://colab.research.google.com/assets/colab-badge.svg\" alt=\"Open In Colab\"/></a>"
      ]
    },
    {
      "cell_type": "markdown",
      "metadata": {
        "id": "9BzC2rrkI0Y6"
      },
      "source": [
        "# Pythonで画像加工\n",
        "\n",
        "Pythonで画像を編集するには描画のために座標軸について確認しましょう。\n",
        "\n",
        "(Python Imaging Library、PIL)に関しては次のサイトが見やすいかもしれません。\n",
        "\n",
        "参考\n",
        "https://note.nkmk.me/pillow/\n",
        "\n",
        "他にも参考になるサイトがあると思います。\n",
        "「pillow プログラミング 解説」等で検索して詳細をご確認ください。"
      ]
    },
    {
      "cell_type": "markdown",
      "source": [
        "## 描画座標軸について"
      ],
      "metadata": {
        "id": "NpaB-4R9bQmq"
      }
    },
    {
      "cell_type": "code",
      "execution_count": null,
      "metadata": {
        "id": "vXpT3IlhunAy",
        "colab": {
          "base_uri": "https://localhost:8080/",
          "height": 517
        },
        "outputId": "7854c9ad-313a-4481-f46b-cdc0c88603eb"
      },
      "outputs": [
        {
          "output_type": "display_data",
          "data": {
            "text/plain": [
              "<PIL.Image.Image image mode=RGB size=500x500>"
            ],
            "image/png": "[encoded data removed]"
          },
          "metadata": {}
        }
      ],
      "source": [
        "from PIL import Image, ImageDraw\n",
        "\n",
        "# 描画用のエリアを作成します。\n",
        "image = Image.new('RGB', (500, 500), (50, 50, 50))\n",
        "# 描画用のエリアに描画するための機能を取り出します。\n",
        "draw = ImageDraw.Draw(image)\n",
        "\n",
        "# 基準点の描画\n",
        "draw.line((0,10,499,10),width=3,fill=(255,255,255))\n",
        "draw.line((10,0,10,499),width=3,fill=(255,255,255))\n",
        "# 基準点座標の描画\n",
        "draw.text((20,15),text = \"(0,0)\")\n",
        "\n",
        "# 指定の座標にマーキングする\n",
        "draw.ellipse((108,28,112,32),width = 3)\n",
        "draw.text((85,40),text = \"(100,20)\")\n",
        "\n",
        "# 指定の座標にマーキングする\n",
        "draw.ellipse((58,208,62,212),width = 3)\n",
        "draw.text((35,220),text = \"(50,200)\")\n",
        "\n",
        "# 指定の座標にマーキングする\n",
        "# draw.ellipse((308,308,312,312),width = 3)\n",
        "# draw.text((285,320),text = \"(300,300)\")\n",
        "\n",
        "display(image)\n"
      ]
    },
    {
      "cell_type": "markdown",
      "metadata": {
        "id": "FnZe1pIXubH1"
      },
      "source": [
        "## 図形描画\n",
        "PILライブラリとは画像処理ライブラリ（Pillow）のことを指しています。\n",
        "Pillowを使うと図形描画や画像加工が容易にできます。\n",
        "\n",
        "初めに円（楕円）を描画してみましょう。"
      ]
    },
    {
      "cell_type": "code",
      "execution_count": null,
      "metadata": {
        "id": "ec5w_tNwPRXk",
        "colab": {
          "base_uri": "https://localhost:8080/",
          "height": 517
        },
        "outputId": "30a0b851-2c11-4793-9a60-53ff90561cf1"
      },
      "outputs": [
        {
          "output_type": "display_data",
          "data": {
            "text/plain": [
              "<PIL.Image.Image image mode=RGB size=500x500>"
            ],
            "image/png": "[encoded data removed]"
          },
          "metadata": {}
        }
      ],
      "source": [
        "from PIL import Image, ImageDraw\n",
        "\n",
        "image = Image.new('RGB', (500, 500), (128, 128, 128))\n",
        "draw = ImageDraw.Draw(image)\n",
        "\n",
        "draw.rectangle((10,10,250,250))\n",
        "# 繰り返しを入れることで多くの画像を作成できます。\n",
        "# これは円を描画します\n",
        "draw.ellipse((10,10,250,250),width = 10)\n",
        "\n",
        "display(image)"
      ]
    },
    {
      "cell_type": "markdown",
      "metadata": {
        "id": "k5Mt4nSTTO8v"
      },
      "source": [
        "## 色の設定\n",
        "\n",
        "PythonのPillowライブラリを使って色の指定をするには（赤、緑、青）の順で各色の強さを指定する必要があります。"
      ]
    },
    {
      "cell_type": "code",
      "execution_count": null,
      "metadata": {
        "id": "TU4oJF_ITKTi"
      },
      "outputs": [],
      "source": [
        "from PIL import Image, ImageDraw\n",
        "\n",
        "image = Image.new('RGB', (500, 500), (128, 128, 128))\n",
        "draw = ImageDraw.Draw(image)\n",
        "\n",
        "# 輪郭のみ\n",
        "draw.ellipse((10,10,240,240),width = 3,outline =(244,10,100))\n",
        "# 塗りつぶし　fillの部分を変えると色を変更することができます\n",
        "draw.ellipse((240,240,490,490),width = 3,fill =(244,10,255))\n",
        "\n",
        "# 繰り返しを使うと・・\n",
        "for i in range(0, 240, 10):\n",
        "    draw.ellipse((240+i/2,240+i/2,490-i/2,490-i/2),width = 3,fill =(244 - i,i,100))\n",
        "\n",
        "display(image)"
      ]
    },
    {
      "cell_type": "markdown",
      "metadata": {
        "id": "2GKhTCqlaUoX"
      },
      "source": [
        "### 多角形を描画してみましょう。\n"
      ]
    },
    {
      "cell_type": "code",
      "execution_count": null,
      "metadata": {
        "id": "eIJJzRj-aY5Y",
        "colab": {
          "base_uri": "https://localhost:8080/",
          "height": 417
        },
        "outputId": "ed9182d4-6d26-4c6c-d452-20df59cbe0ed"
      },
      "outputs": [
        {
          "output_type": "display_data",
          "data": {
            "text/plain": [
              "<PIL.Image.Image image mode=RGB size=400x400>"
            ],
            "image/png": "[encoded data removed]"
          },
          "metadata": {}
        }
      ],
      "source": [
        "from PIL import Image, ImageDraw\n",
        "\n",
        "image = Image.new('RGB', (400, 400), (128, 128, 128))\n",
        "draw = ImageDraw.Draw(image)\n",
        "\n",
        "points = [(100,200),(200,300),(300,200),(200,100),(200,200)]\n",
        "\n",
        "# 多角形を描画します。\n",
        "draw.polygon(points,width = 3,outline = (255,0,0))\n",
        "\n",
        "# 各座標をリストから取り出して描画します。\n",
        "# for xy in points:\n",
        "#   # 座標の表示位置を調整しています。\n",
        "#   plot = (xy[0] - 33,xy[1] +8)\n",
        "#   draw.text(plot,str(xy))\n",
        "\n",
        "display(image)"
      ]
    },
    {
      "cell_type": "markdown",
      "source": [
        "### その他の描画関数を調べてみましょう。\n"
      ],
      "metadata": {
        "id": "hwIwBLaeZY8k"
      }
    },
    {
      "cell_type": "markdown",
      "metadata": {
        "id": "hXX4xrXsbs1E"
      },
      "source": [
        "表示している図形を回転させてみましょう。\n"
      ]
    },
    {
      "cell_type": "code",
      "execution_count": null,
      "metadata": {
        "id": "Q3X9I1kZb5xI",
        "colab": {
          "base_uri": "https://localhost:8080/",
          "height": 435
        },
        "outputId": "a5cd3ef5-d862-4547-8ee8-2a75e676cefb"
      },
      "outputs": [
        {
          "output_type": "stream",
          "name": "stdout",
          "text": [
            "45度右に回転した図形\n"
          ]
        },
        {
          "output_type": "display_data",
          "data": {
            "text/plain": [
              "<PIL.Image.Image image mode=RGB size=400x400>"
            ],
            "image/png": "[encoded data removed]"
          },
          "metadata": {}
        }
      ],
      "source": [
        "from PIL import Image, ImageDraw\n",
        "\n",
        "image = Image.new('RGB', (400, 400), (128, 128, 128))\n",
        "draw = ImageDraw.Draw(image)\n",
        "\n",
        "points = [(100,200),(200,300),(300,200),(200,100),(200,200)]\n",
        "\n",
        "draw.polygon(points,width = 3)\n",
        "\n",
        "# 45度回転します。角度を変更すると図形の傾きが変えられます。\n",
        "# 回転した画像全体を残したい場合は引数expandをTrueにします。\n",
        "image = image.rotate(180,expand = True)\n",
        "print('45度右に回転した図形')\n",
        "display(image)\n",
        "# x度回転します。\n",
        "# 回転した画像全体を残したい場合は引数expandをTrueにします。\n",
        "# x = 90\n",
        "# image = image.rotate(x,expand = True)\n",
        "# print('さらに' + x + '度右に回転した図形')\n",
        "# display(image)"
      ]
    },
    {
      "cell_type": "markdown",
      "metadata": {
        "id": "W2Xq5JMhcrkZ"
      },
      "source": [
        "拡大処理・縮小処理"
      ]
    },
    {
      "cell_type": "code",
      "execution_count": null,
      "metadata": {
        "id": "1nO3pC_ccv8y",
        "colab": {
          "base_uri": "https://localhost:8080/",
          "height": 1000
        },
        "outputId": "680e8db2-c284-4979-fd81-1e5811a7267b"
      },
      "outputs": [
        {
          "output_type": "stream",
          "name": "stdout",
          "text": [
            "45度回転した図形\n"
          ]
        },
        {
          "output_type": "display_data",
          "data": {
            "text/plain": [
              "<PIL.Image.Image image mode=RGB size=566x566>"
            ],
            "image/png": "[encoded data removed]"
          },
          "metadata": {}
        },
        {
          "output_type": "stream",
          "name": "stdout",
          "text": [
            "さらに90度回転した図形\n"
          ]
        },
        {
          "output_type": "display_data",
          "data": {
            "text/plain": [
              "<PIL.Image.Image image mode=RGB size=566x566>"
            ],
            "image/png": "[encoded data removed]"
          },
          "metadata": {}
        },
        {
          "output_type": "display_data",
          "data": {
            "text/plain": [
              "<PIL.Image.Image image mode=RGB size=800x800>"
            ],
            "image/png": "[encoded data removed]"
          },
          "metadata": {}
        }
      ],
      "source": [
        "from PIL import Image, ImageDraw\n",
        "\n",
        "image = Image.new('RGB', (400, 400), (128, 128, 128))\n",
        "draw = ImageDraw.Draw(image)\n",
        "\n",
        "points = [(100,200),(200,300),(300,200),(200,100),(200,200)]\n",
        "\n",
        "draw.polygon(points,width = 3)\n",
        "# 45度回転します。\n",
        "# 回転した画像全体を残したい場合は引数expandをTrueにします。\n",
        "image = image.rotate(45,expand = True)\n",
        "print('45度回転した図形')\n",
        "display(image)\n",
        "# 90度回転します。\n",
        "# 回転した画像全体を残したい場合は引数expandをTrueにします。\n",
        "image = image.rotate(90,expand = True)\n",
        "print('さらに90度回転した図形')\n",
        "display(image)\n",
        "\n",
        "# 指定のサイズに大きさを変更します。\n",
        "image = image.resize(size=(800,800), resample=Image.LANCZOS)\n",
        "\n",
        "display(image)"
      ]
    },
    {
      "cell_type": "markdown",
      "metadata": {
        "id": "79z-LyITMot4"
      },
      "source": [
        "### 写真の読み込み\n",
        "\n",
        "Colaboratoryにフォルダーを作成しイメージをアップロードしましょう。\n",
        "\n",
        "どこに写真があるのか確認してみましょう。\n",
        "\n",
        "Colaboratoryに写真ファイルを追加してみましょう。"
      ]
    },
    {
      "cell_type": "code",
      "execution_count": null,
      "metadata": {
        "id": "yhKjYdy-OhRp",
        "colab": {
          "base_uri": "https://localhost:8080/"
        },
        "outputId": "6ebb2fd1-3375-4ec6-c6a5-d11a85747b3b"
      },
      "outputs": [
        {
          "output_type": "stream",
          "name": "stdout",
          "text": [
            "sample_data\n"
          ]
        }
      ],
      "source": [
        "!dir"
      ]
    },
    {
      "cell_type": "markdown",
      "metadata": {
        "id": "oJwROvSqOJ6f"
      },
      "source": [
        "## 写真を一括返還\n",
        "### Colaboratoryにアップロードした写真を一括で変換することができます。\n"
      ]
    },
    {
      "cell_type": "markdown",
      "metadata": {
        "id": "CxYTXhn33xYd"
      },
      "source": [
        "まずはどのような写真がアップロードされているのか見てみましょう。"
      ]
    },
    {
      "cell_type": "code",
      "execution_count": null,
      "metadata": {
        "id": "BwFxk-Tn-RHe"
      },
      "outputs": [],
      "source": [
        "import glob\n",
        "from PIL import Image\n",
        "# パス内の全ての\"指定パス+ファイル名\"と\"指定パス+ディレクトリ名\"を要素とするリストを返す\n",
        "files = glob.glob('img/*.webp') # ワイルドカードが使用可能\n",
        "\n",
        "# すべてのファイルを繰り返し読み込み表示します。\n",
        "for file in files:\n",
        "    image = Image.open(file)\n",
        "    display(image)"
      ]
    },
    {
      "cell_type": "markdown",
      "metadata": {
        "id": "FjkJqA1nGi7e"
      },
      "source": [
        "写真のサイズを縮小して中央部分（一部分）のみ切り抜き（クロップし）ます。\n",
        "\n",
        "仮に800x600のピクセルサイズの画像があればこれを短い辺の長さを300に縮小してみます。"
      ]
    },
    {
      "cell_type": "code",
      "source": [
        "from PIL import Image, ImageDraw\n",
        "\n",
        "# 横800x高さ600のイメージを生成\n",
        "image = Image.new('RGB', (800, 600), (128, 128, 128))\n",
        "draw = ImageDraw.Draw(image)\n",
        "\n",
        "# 適当な大きさの円を各\n",
        "draw.ellipse((200,100,600,500),width = 3,outline =(244,10,100))\n",
        "# 元の図を表示します。\n",
        "print(\"元の図\")\n",
        "display(image)\n",
        "\n",
        "# 短い辺を600 ⇒ 300にするため　300 / 600 ⇒ 1　/　2（0.5）を幅、高さに掛ける\n",
        "# この時エラーが発生します。\n",
        "#resizeimage = image.resize((800 * 0.5 , 600 * 0.5))\n",
        "#resizeimage = image.resize((int(800 * 0.5) ,int( 600 * 0.5)))\n",
        "\n",
        "# 縮小後の図を表示します。\n",
        "#print(\"縮小後\")\n",
        "#display(resizeimage)\n",
        "\n",
        "# 縮小後の図の不要部分を色分けします。（わかりやすくしているだけなので本来不要です。）\n",
        "#resizedraw = ImageDraw.Draw(resizeimage)\n",
        "#resizedraw.rectangle((0, 0, 49, 299),fill=(255, 0, 0))\n",
        "#resizedraw.rectangle((350, 0, 399, 299),fill=(255, 0, 0))\n",
        "#print(\"不要部分を赤くした\")\n",
        "#display(resizeimage)\n",
        "\n",
        "\n",
        "# 幅高さ300,300で図の中央の一部をくり抜き（crop）ます。\n",
        "# 縮小後のサイズが400,300になっているので中央部分は50-349,0-299になっています。\n",
        "#cropimage = resizeimage.crop((50, 0, 349, 299))\n",
        "\n",
        "#print(\"くり抜き後のイメージ\")\n",
        "#display(cropimage)\n",
        "\n",
        "image = image.resize((300,300))\n"
      ],
      "metadata": {
        "id": "2yAsK2gjVJ2n"
      },
      "execution_count": null,
      "outputs": []
    },
    {
      "cell_type": "markdown",
      "source": [
        "画像をフィルタリングするためのイメージを作成します。"
      ],
      "metadata": {
        "id": "EX3Lk9OTcZQx"
      }
    },
    {
      "cell_type": "code",
      "execution_count": null,
      "metadata": {
        "id": "49nGyEGr94xC"
      },
      "outputs": [],
      "source": [
        "from PIL import Image,ImageDraw\n",
        "whsize = 300\n",
        "\n",
        "# イメージの周辺をぼかすための画像を作成する。\n",
        "im_alpha = Image.new('L', (whsize,whsize), 0)\n",
        "draw = ImageDraw.Draw(im_alpha)\n",
        "draw.ellipse((20, 20, whsize - 20, whsize - 20), fill=255)\n",
        "\n",
        "display(im_alpha)"
      ]
    },
    {
      "cell_type": "markdown",
      "source": [
        "輪郭をぼかすためにグラデーションします。"
      ],
      "metadata": {
        "id": "vGl1MxXpcloR"
      }
    },
    {
      "cell_type": "code",
      "execution_count": null,
      "metadata": {
        "id": "LChB_c7m696N"
      },
      "outputs": [],
      "source": [
        "from PIL import Image,ImageDraw,ImageFilter\n",
        "\n",
        "# 周辺をぼかす処理を入れます。数値は幅を表します。\n",
        "im_alpha_blur = im_alpha.filter(ImageFilter.GaussianBlur(10))\n",
        "display(im_alpha_blur)"
      ]
    },
    {
      "cell_type": "markdown",
      "metadata": {
        "id": "0ol0OvT38Kyp"
      },
      "source": [
        "アルファチャンネルとは、画像データなどの色情報の一部として、その画素の透過度（背後の色が透き通る度合い）を設定できるようにした領域を言います。「ぼかす」ことができます。ぼかしの透明度は256段階となります。"
      ]
    },
    {
      "cell_type": "code",
      "execution_count": null,
      "metadata": {
        "id": "k4Kff6pN7zuJ"
      },
      "outputs": [],
      "source": [
        "# 先ほど最後に作成した画像にアルファチャネル処理をします。\n",
        "\n",
        "image.putalpha(im_alpha_blur)\n",
        "display(image)"
      ]
    },
    {
      "cell_type": "markdown",
      "source": [
        "すべてのイメージの長編300ピクセルにして中央でクロップするし表示するプログラムを見てみましょう。"
      ],
      "metadata": {
        "id": "zIYwHu1fbuDc"
      }
    },
    {
      "cell_type": "code",
      "execution_count": null,
      "metadata": {
        "id": "awP9lsc0AyAI"
      },
      "outputs": [],
      "source": [
        "import glob\n",
        "from PIL import Image\n",
        "whsize = 300\n",
        "# パス内の全ての\"指定パス+ファイル名\"と\"指定パス+ディレクトリ名\"を要素とするリストを返す\n",
        "files = glob.glob('img/*.jpg') # ワイルドカードが使用可能\n",
        "# すべてのファイルに対して処理を行います。\n",
        "for file in files:\n",
        "    image = Image.open(file)\n",
        "    # 画像のサイズを取得\n",
        "    w,h = image.size\n",
        "    # 縦横の小さいほうをwhsizeで指定したピクセルにします。\n",
        "    if w < h :\n",
        "      w = int(w * whsize / w)\n",
        "      h = int(h * whsize / w)\n",
        "    else:\n",
        "      w = int(w * whsize / h)\n",
        "      h = int(h * whsize / h)\n",
        "    # 大きさを縦横を同じ比率で縮小します。\n",
        "    image = image.resize((w,h))\n",
        "\n",
        "    w,h = image.size\n",
        "    print(w,h)\n",
        "    # サイズ変更した写真の中央部分をくりぬき（クロップ）します。\n",
        "    image = image.crop(((w - whsize)/2,(h-whsize)/2,\n",
        "            (w - whsize)/2 + whsize,(h-whsize)/2 + whsize))\n",
        "    w,h = image.size\n",
        "    print(w,h)\n",
        "    display(image)"
      ]
    },
    {
      "cell_type": "markdown",
      "metadata": {
        "id": "6ehWopu38qwm"
      },
      "source": [
        "それではこれらの処理をまとめて記述してみましょう。\n"
      ]
    },
    {
      "cell_type": "code",
      "execution_count": null,
      "metadata": {
        "id": "0yFZ4bnw8t3D"
      },
      "outputs": [],
      "source": [
        "import glob\n",
        "from PIL import Image,ImageDraw,ImageFilter\n",
        "whsize = 300\n",
        "# アルファチャネルを先に作成しておきます。\n",
        "# イメージの周辺をぼかすための画像を作成する。\n",
        "im_alpha = Image.new('L', (whsize,whsize), 0)\n",
        "draw = ImageDraw.Draw(im_alpha)\n",
        "draw.ellipse((20, 20, whsize - 20, whsize - 20), fill=255)\n",
        "im_alpha_blur = im_alpha.filter(ImageFilter.GaussianBlur(10))\n",
        "\n",
        "# パス内の全ての\"指定パス+ファイル名\"と\"指定パス+ディレクトリ名\"を要素とするリストを返す\n",
        "files = glob.glob('img/*.webp') # ワイルドカードが使用可能\n",
        "# すべてのファイルに対して処理を行います。\n",
        "for file in files:\n",
        "    image = Image.open(file)\n",
        "    # 画像のサイズを取得\n",
        "    w,h = image.size\n",
        "    # 縦横の小さいほうをwhsizeで指定したピクセルにします。\n",
        "    if w < h :\n",
        "      w = int(w * whsize / w)\n",
        "      h = int(h * whsize / w)\n",
        "    else:\n",
        "      w = int(w * whsize / h)\n",
        "      h = int(h * whsize / h)\n",
        "    # 大きさを縦横を同じ比率で縮小します。\n",
        "    image = image.resize((w,h))\n",
        "\n",
        "    w,h = image.size\n",
        "    print(w,h)\n",
        "    # サイズ変更した写真の中央部分をくりぬき（クロップ）します。\n",
        "    image = image.crop(((w - whsize)/2,(h-whsize)/2,\n",
        "            (w - whsize)/2 + whsize,(h-whsize)/2 + whsize))\n",
        "    w,h = image.size\n",
        "    print(w,h)\n",
        "\n",
        "    # 各画像にアルファ処理をします。\n",
        "    image.putalpha(im_alpha_blur)\n",
        "\n",
        "    # 表示します。\n",
        "    display(image)\n",
        "    # ファイル名の拡張子をjpgからpngに変換します。\n",
        "    file = file.replace('.jpg','.png')\n",
        "    # 保存します。\n",
        "    image.save(file)"
      ]
    },
    {
      "cell_type": "markdown",
      "source": [
        "## おまけ\n",
        "\n",
        "絵をかいてみました。"
      ],
      "metadata": {
        "id": "zREnkvQyJQk2"
      }
    },
    {
      "cell_type": "code",
      "metadata": {
        "id": "50DeN8bYdg_R"
      },
      "source": [
        "from IPython.display import display\n",
        "from PIL import Image,ImageDraw\n",
        "\n",
        "im = Image.new('RGB', (500, 500),(255,240,230))\n",
        "#背景をクリーム色で描画用のエリアを作成します。\n",
        "\n",
        "draw = ImageDraw.Draw(im)\n",
        "black=( 0 , 0 , 0 )\n",
        "draw.ellipse((100,100,400,400),fill=(230,150,110))\n",
        "draw.ellipse((190,155,220,210),fill=black)\n",
        "draw.ellipse((280,155,310,210),fill=black)\n",
        "draw.ellipse((200,210,300,290),fill=(230,50,12))\n",
        "draw.rectangle((250,230,270,250),fill=(255,255,255))\n",
        "\n",
        "draw.arc((150,140,260,250),-120,-60,fill=black,width=5)\n",
        "draw.arc((240,140,350,250),-120,-60,fill=black,width=5)\n",
        "\n",
        "draw.chord((190,240,310,350),start=-10,end=190,fill=(210,80,82))\n",
        "\n",
        "display(im)\n"
      ],
      "execution_count": null,
      "outputs": []
    }
  ],
  "metadata": {
    "colab": {
      "provenance": [],
      "include_colab_link": true
    },
    "kernelspec": {
      "display_name": "Python 3",
      "name": "python3"
    },
    "language_info": {
      "name": "python"
    }
  },
  "nbformat": 4,
  "nbformat_minor": 0
}