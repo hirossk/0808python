{
  "nbformat": 4,
  "nbformat_minor": 0,
  "metadata": {
    "colab": {
      "provenance": [],
      "toc_visible": true,
      "include_colab_link": true
    },
    "kernelspec": {
      "name": "python3",
      "display_name": "Python 3"
    },
    "language_info": {
      "name": "python"
    }
  },
  "cells": [
    {
      "cell_type": "markdown",
      "metadata": {
        "id": "view-in-github",
        "colab_type": "text"
      },
      "source": [
        "<a href=\"https://colab.research.google.com/github/hirossk/0808python/blob/main/0808Gradio.ipynb\" target=\"_parent\"><img src=\"https://colab.research.google.com/assets/colab-badge.svg\" alt=\"Open In Colab\"/></a>"
      ]
    },
    {
      "cell_type": "markdown",
      "source": [
        "# Gradioを使ったインタフェースを作ります。\n",
        "\n",
        "Gradio？というかたは「[Gradioとは？](https://www.google.co.jp/search?client=ubuntu&channel=fs&q=gradio%E3%81%A8%E3%81%AF%EF%BC%9F&ie=utf-8&oe=utf-8&hl=ja)」で検索してみましょう。\n",
        "\n",
        "https://www.gradio.app/"
      ],
      "metadata": {
        "id": "ZNlnk7XZVkwm"
      }
    },
    {
      "cell_type": "markdown",
      "source": [
        "## 最初に環境設定を行います\n",
        "Gradio（グラディオ）は入出力や機械学習に最適化できるシステム開発環境を提供してくれます。\n",
        "\n",
        "最初に次のコードを実行して環境を設定します。"
      ],
      "metadata": {
        "id": "qZV5ZnRUVphb"
      }
    },
    {
      "cell_type": "code",
      "execution_count": 3,
      "metadata": {
        "id": "VMouqhSRVRbl"
      },
      "outputs": [],
      "source": [
        "!pip install gradio"
      ]
    },
    {
      "cell_type": "markdown",
      "source": [
        "## インタフェースを使ったprogrammingの基本\n",
        "\n",
        "文字列の入力と出力を試してみましょう。\n",
        "\n",
        "入力用エリアと出力用エリアを使ってみましょう。"
      ],
      "metadata": {
        "id": "Id-s1xFCVisX"
      }
    },
    {
      "cell_type": "code",
      "source": [
        "import gradio as gr\n",
        "\n",
        "def greet(name): #nameには入力領域に設定された値が渡されます。\n",
        "    return \"こんにちは \" + name + \"!\"\n",
        "\n",
        "#inputsは入力領域、outputsは出力領域\n",
        "#fn=greetで\"Submit\"ボタンを押したときに呼び出される処理（コールバック）を登録します。\n",
        "demo = gr.Interface(fn=greet, inputs=\"text\", outputs=\"text\") # allow_flagging='never'でflagを抑制できます\n",
        "# 表示する\n",
        "demo.launch()"
      ],
      "metadata": {
        "id": "F_WfhckuVUBC"
      },
      "execution_count": null,
      "outputs": []
    },
    {
      "cell_type": "markdown",
      "source": [
        "## テキストとスライダーを使ってみる\n",
        "\n",
        "テキスト入力エリアとスライダーを設置してその入力を表示してみましょう。"
      ],
      "metadata": {
        "id": "KPTIMV9XthVl"
      }
    },
    {
      "cell_type": "code",
      "source": [
        "import gradio as gr\n",
        "\n",
        "# 名前とスライダーによる数値を受け取ります\n",
        "# 一つ目がtext、二つ目がsliderによる値\n",
        "def greet(name, intensity):\n",
        "    return \"Hello, \" + name + \"!\" * int(intensity)\n",
        "\n",
        "#複数行に分けて記載しています。\n",
        "demo = gr.Interface(\n",
        "    fn=greet,\n",
        "    # 入力領域を文字とスライダーの２つにします\n",
        "    inputs=[\"text\", \"slider\"],\n",
        "    outputs=[\"text\"],\n",
        ")\n",
        "\n",
        "demo.launch()"
      ],
      "metadata": {
        "id": "8ghd7SKOtgES"
      },
      "execution_count": null,
      "outputs": []
    },
    {
      "cell_type": "markdown",
      "source": [
        "## 入力エリアにラベルを追加する\n",
        "\n",
        "入力エリアと出力エリアにラベル付けをして見た目を整えてみましょう。\n"
      ],
      "metadata": {
        "id": "bdjHyQUnXcTZ"
      }
    },
    {
      "cell_type": "code",
      "source": [
        "import gradio as gr\n",
        "\n",
        "def greet(name): #挨拶という意味\n",
        "    return \"Hello \" + name + \"!\"\n",
        "\n",
        "# 入力エリアにラベルを追加します\n",
        "name = gr.Textbox(label=\"お名前をどうぞ\")\n",
        "# 出力エリアにもラベルを追加します\n",
        "output = gr.Textbox(label=\"挨拶\")\n",
        "\n",
        "#inputs,outputsにラベルを設定したものを使う\n",
        "demo = gr.Interface(fn=greet, inputs=name, outputs=output)\n",
        "\n",
        "demo.launch()"
      ],
      "metadata": {
        "id": "n_c-U9p0W37T"
      },
      "execution_count": null,
      "outputs": []
    },
    {
      "cell_type": "markdown",
      "source": [
        "## 苗字と名前を入力させる\n",
        "\n",
        "テキストによる入力エリアを２つにしてそれぞれの値を受け取ってみましょう。\n"
      ],
      "metadata": {
        "id": "a6KlxITQXt3l"
      }
    },
    {
      "cell_type": "code",
      "source": [
        "import gradio as gr\n",
        "\n",
        "def greet(firstname,lastname): #greetの引数にfirstnameとlastnameを設定します\n",
        "    return \"こんにちは \" + lastname + firstname + \"さん!\"\n",
        "\n",
        "# 入力エリアを二つにしてそれぞれにラベルを追加します\n",
        "firstname = gr.Textbox(label=\"名前をどうぞ\")\n",
        "lastname = gr.Textbox(label=\"苗字をどうぞ\")\n",
        "\n",
        "# 出力エリアは一つのままにします\n",
        "output = gr.Textbox(label=\"挨拶\")\n",
        "\n",
        "#Pythonのリストを使って入力エリアを二つ（リストにして）確保しています\n",
        "demo = gr.Interface(fn=greet, inputs=[firstname,lastname], outputs=output)\n",
        "\n",
        "demo.launch()"
      ],
      "metadata": {
        "id": "yapWOv3SX0Cy"
      },
      "execution_count": null,
      "outputs": []
    },
    {
      "cell_type": "markdown",
      "source": [
        "## ここまでの学習で少しだけ使えそうなことをやってみましょう。\n",
        "\n",
        "生年月日を入力することで今日まで生きてきた日数を出力してみましょう。"
      ],
      "metadata": {
        "id": "izq1o4qJufFg"
      }
    },
    {
      "cell_type": "code",
      "source": [
        "import gradio as gr\n",
        "from datetime import datetime\n",
        "\n",
        "def birthofday(name,year,month,day): #今何日目？\n",
        "    return \"こんにちは \" + name + \"さん!\\n\" + \\\n",
        "      \"あなたの生まれた日は\" + str(year) + \"年\" + str(month) + \"月\" + str(day) + \"日です。\"\n",
        "    # #現在の日付\n",
        "    # today = datetime.today()\n",
        "    # #生年月日\n",
        "    # birthday = datetime(year,month,day)\n",
        "    # #経過日数計算\n",
        "    # ans = today - birthday #str(ans.days)\n",
        "    #　戻り値を複数にすることでoutputのエリアの数に合わせます\n",
        "    # return name + \"さん!\" , str(ans.days)\n",
        "\n",
        "# 入力エリアにラベルを追加\n",
        "name = gr.Textbox(label=\"お名前をどうぞ\")\n",
        "year = gr.Number(label=\"生まれた年\",minimum=1950,maximum=2024,value=2006)\n",
        "month = gr.Number(label=\"生まれた月\",minimum=1,maximum=12,value=6)\n",
        "day = gr.Number(label=\"生まれた日\",minimum=1,maximum=31,value=15)\n",
        "#入力エリアをリストにしています\n",
        "inputs = [name,year,month,day]\n",
        "\n",
        "output1 = gr.Textbox(label=\"結果は？\")\n",
        "output2 = gr.Textbox(label=\"このくらいの日にちを生きています\")\n",
        "#出力エリアをリストにしています\n",
        "outputs = [output1]\n",
        "\n",
        "#Pythonのリストを使って入力エリアを４つ、出力エリアを２つ\n",
        "demo = gr.Interface(fn=birthofday, inputs=inputs, outputs=outputs)\n",
        "\n",
        "demo.launch()"
      ],
      "metadata": {
        "id": "JBOLcnBnukAb"
      },
      "execution_count": null,
      "outputs": []
    },
    {
      "cell_type": "markdown",
      "source": [
        "# GUI部品とほかのライブラリの使い方を確認してみましょう"
      ],
      "metadata": {
        "id": "Mn7Qlx9u_B4O"
      }
    },
    {
      "cell_type": "markdown",
      "source": [
        "## 色を変えてみる\n",
        "\n",
        "テキストや数値以外で入力できる項目もありますので、試してみましょう。\n",
        "スライダーを使って光の三原色を変更してみましょう。\n",
        "\n",
        "ここではライブラリのpillowを使ってイメージを生成してみます。\n",
        "\n",
        "pillowの詳細はこの後の時間で実施します。"
      ],
      "metadata": {
        "id": "NFe9Ia-6ZnkG"
      }
    },
    {
      "cell_type": "code",
      "source": [
        "import gradio as gr\n",
        "from PIL import Image, ImageDraw\n",
        "\n",
        "#出力エリアに設定するイメージを用意します\n",
        "\n",
        "im = Image.new('RGB', (500, 300),( 0, 0, 0))\n",
        "draw = ImageDraw.Draw(im)\n",
        "\n",
        "def change(red,green,blue): #データが変更された場合\n",
        "    draw.rectangle((0, 0, 500, 300), fill=(red, green, blue))\n",
        "    return im\n",
        "\n",
        "# 入力エリアにスライダーを赤・緑・青の光の３原色で設定します\n",
        "red = gr.Slider(label = \"赤\",minimum=0,maximum=255)\n",
        "green = gr.Slider(label = \"緑\",minimum=0,maximum=255)\n",
        "blue = gr.Slider(label = \"青\",minimum=0,maximum=255)\n",
        "\n",
        "#出力エリアをイメージにします\n",
        "output = gr.Image(im,type='pil')\n",
        "\n",
        "#inputsに３つのスライダーを使います\n",
        "#live=Trueでリアルタイムで更新を行う。\n",
        "demo = gr.Interface(fn=change, inputs=[red,green,blue], outputs=output,live=True)\n",
        "\n",
        "demo.launch()"
      ],
      "metadata": {
        "id": "WQaPOcF0ZrMe"
      },
      "execution_count": null,
      "outputs": []
    },
    {
      "cell_type": "markdown",
      "source": [
        "## ラジオボタン\n",
        "\n",
        "ラジオボタンを使って四則演算をしてみましょう。"
      ],
      "metadata": {
        "id": "vLsXuSPYeWrE"
      }
    },
    {
      "cell_type": "code",
      "source": [
        "import gradio as gr\n",
        "\n",
        "def calc(num1,ope,num2): #計算を行う\n",
        "    if ope == \"add\":\n",
        "        return str(num1 + num2)\n",
        "    # elif ope == \"\":\n",
        "    #     return str(num1 - num2)\n",
        "    # elif ope == \"\":\n",
        "    #     return str(num1 * num2)\n",
        "    # elif ope == \"\":\n",
        "    #     return str(num1 / num2)\n",
        "    return 0\n",
        "\n",
        "# 入力エリア(ラジオボタン)に４つ入力エリアを作成し\"add\"をデフォルトにする\n",
        "radio = gr.Radio([\"add\"], value = \"add\")\n",
        "\n",
        "#数値項目、ラジオボタン、数値項目の順で入力エリアを設定する\n",
        "demo = gr.Interface(fn=calc, inputs=[\"number\",radio,\"number\"], outputs=\"text\",live=True)\n",
        "\n",
        "demo.launch()"
      ],
      "metadata": {
        "id": "DNGBCi0seaFr"
      },
      "execution_count": null,
      "outputs": []
    },
    {
      "cell_type": "markdown",
      "source": [
        "## ブロックの利用\n",
        "\n",
        "入出力の領域をブロック化することができます。\n",
        "\n",
        "output領域は編集不可になります。"
      ],
      "metadata": {
        "id": "qwr2wLiUA7gE"
      }
    },
    {
      "cell_type": "code",
      "source": [
        "#一番最初の例を使って説明します。\n",
        "def greet(name):\n",
        "    return \"Hello \" + name + \"!\"\n",
        "\n",
        "# Blocksの作成\n",
        "with gr.Blocks() as demo:\n",
        "    # コンポーネント\n",
        "    name = gr.Textbox(label=\"名前\")\n",
        "    output = gr.Textbox(label=\"挨拶エリア\")\n",
        "    greet_btn = gr.Button(\"挨拶ボタン\")\n",
        "\n",
        "    # ボタンクリックのイベントリスナーとしてコールバック関数を登録します\n",
        "    greet_btn.click(fn=greet, inputs=name, outputs=output, api_name=\"greet\")\n",
        "\n",
        "# 起動\n",
        "demo.launch()"
      ],
      "metadata": {
        "id": "hy5mX7PrBDbO"
      },
      "execution_count": null,
      "outputs": []
    },
    {
      "cell_type": "markdown",
      "source": [
        "## ブロックによる簡単なレイアウト\n",
        "\n"
      ],
      "metadata": {
        "id": "HkvcGwIzHqIS"
      }
    },
    {
      "cell_type": "code",
      "source": [
        "import gradio as gr\n",
        "\n",
        "def greet(name):\n",
        "    return \"Hello \" + name + \"!\"\n",
        "\n",
        "# Blocksの作成\n",
        "with gr.Blocks() as demo:\n",
        "    # HTMLコンポーネント\n",
        "    title = gr.HTML(\"<h1 style='color: red'>挨拶ボタンのタイトル</h1>\")\n",
        "    # マークダウン\n",
        "    description = gr.Markdown(\n",
        "        \"\"\"\n",
        "        ## 見出し２\n",
        "        \"\"\"\n",
        "    )\n",
        "    name = gr.Textbox(label=\"名前\")\n",
        "    output = gr.Textbox(label=\"挨拶エリア\")\n",
        "    greet_btn = gr.Button(\"挨拶ボタン\")\n",
        "\n",
        "    # ボタンクリックのイベントリスナーとしてコールバック関数を登録します\n",
        "    greet_btn.click(fn=greet, inputs=name, outputs=output, api_name=\"greet\")\n",
        "\n",
        "# 起動\n",
        "demo.launch()"
      ],
      "metadata": {
        "id": "PEHD8IniHwq5"
      },
      "execution_count": null,
      "outputs": []
    },
    {
      "cell_type": "markdown",
      "source": [
        "## ブロック内のテキストエリアの制御\n",
        "\n",
        "テキストエリアにプレースホルダー（入力メッセージ）を表示することもできます\n",
        "\n",
        "output領域のテキストエリアも編集可能にすることができます。"
      ],
      "metadata": {
        "id": "XsKMBgo0EaMS"
      }
    },
    {
      "cell_type": "code",
      "source": [
        "import gradio as gr\n",
        "\n",
        "def greet(name):\n",
        "    return \"Hello \" + name + \"!\"\n",
        "\n",
        "# Blocksの作成\n",
        "with gr.Blocks() as demo:\n",
        "    # コンポーネント\n",
        "    name = gr.Textbox(label=\"名前\",placeholder=\"吉田　太郎\")\n",
        "    output = gr.Textbox(label=\"挨拶エリア\", interactive=True)\n",
        "    greet_btn = gr.Button(\"挨拶ボタン\")\n",
        "\n",
        "    # ボタンクリックのイベントリスナーとしてコールバック関数を登録します\n",
        "    greet_btn.click(fn=greet, inputs=name, outputs=output, api_name=\"greet\")\n",
        "\n",
        "# 起動\n",
        "demo.launch()"
      ],
      "metadata": {
        "id": "Z5gch2icEoMU"
      },
      "execution_count": null,
      "outputs": []
    },
    {
      "cell_type": "markdown",
      "source": [
        "## イベントリスナーの登録\n",
        "\n",
        "各コンポーネント（テキストやボタン、スライダー）にはそれぞれ「click」や「change」といったイベントリスナーの登録に使われる手続きがあります。"
      ],
      "metadata": {
        "id": "KyoWz6OSFo7U"
      }
    },
    {
      "cell_type": "code",
      "source": [
        "import gradio as gr\n",
        "\n",
        "# 加算の関数\n",
        "def increase(num):\n",
        "    return num + 1\n",
        "\n",
        "# Blcksの作成\n",
        "with gr.Blocks() as demo:\n",
        "    # コンポーネント\n",
        "    a = gr.Number(label=\"a\")\n",
        "    b = gr.Number(label=\"b\")\n",
        "    btoa = gr.Button(\"a > b\")\n",
        "    atob = gr.Button(\"b > a\")\n",
        "\n",
        "    # それぞれのボタンにイベントリスナーを設定しお互いを出力先とします\n",
        "    atob.click(increase, a, b)\n",
        "    btoa.click(increase, b, a)\n",
        "\n",
        "# 起動\n",
        "demo.launch()\n"
      ],
      "metadata": {
        "id": "x170EyIJGbqo"
      },
      "execution_count": null,
      "outputs": []
    },
    {
      "cell_type": "markdown",
      "source": [
        "## 画像とイベント処理\n",
        "\n",
        "スライダーを動かしてイメージに描画する線を変更します"
      ],
      "metadata": {
        "id": "GaTh_YCGJn4t"
      }
    },
    {
      "cell_type": "code",
      "source": [
        "import gradio as gr\n",
        "from PIL import Image, ImageDraw\n",
        "\n",
        "#出力エリアに設定するイメージを用意します\n",
        "\n",
        "im = Image.new('RGB', (500, 300),( 255, 255, 255))\n",
        "draw = ImageDraw.Draw(im)\n",
        "# 線の描画\n",
        "def drawline(step):\n",
        "    draw.rectangle((0,0,499,299),fill=(255,255,255))\n",
        "    for x in range(0,500,step):\n",
        "      draw.line((x,0,x,499),width=3,fill=(0,0,0))\n",
        "    # 描画した画像を戻り値とします\n",
        "    return im\n",
        "\n",
        "# Blcksの作成\n",
        "with gr.Blocks() as demo:\n",
        "    # コンポーネントの用意\n",
        "    width = gr.Slider(label = \"line margin\",minimum=0, maximum=250, step=3)\n",
        "    # 出力エリアをイメージとします\n",
        "    image = gr.Image(im,type='pil')\n",
        "    width.change(fn=drawline,inputs=width,outputs=image)\n",
        "\n",
        "# 起動\n",
        "demo.launch()"
      ],
      "metadata": {
        "id": "6NOryksmJv2t"
      },
      "execution_count": null,
      "outputs": []
    },
    {
      "cell_type": "markdown",
      "source": [
        "## グラフの表示\n",
        "\n",
        "スライダーの値を読み取って棒グラフにしましょう。"
      ],
      "metadata": {
        "id": "uMkFt8bTg-mB"
      }
    },
    {
      "cell_type": "code",
      "source": [
        "import pandas as pd\n",
        "import gradio as gr\n",
        "\n",
        "#コールバック関数として引数a,b,cを\"y\"軸に設定します。\"x\"軸はラベルのリスト\n",
        "def plot(a,b,c):\n",
        "    df = pd.DataFrame({\"x\":['a','b','c'] , \"y\": [a,b,c]})\n",
        "    return df\n",
        "\n",
        "#配置用ブロックを定義しています。\n",
        "with gr.Blocks() as demo:\n",
        "    # 横方向にスライダーを配置しています。\n",
        "    with gr.Row() as row:\n",
        "        A = gr.Slider(label = \"A\",minimum=0, maximum=255, step=5)\n",
        "        B = gr.Slider(label = \"B\",minimum=0, maximum=255, step=5)\n",
        "        C = gr.Slider(label = \"B\",minimum=0, maximum=255, step=5)\n",
        "\n",
        "    #グラフの生成はmatplotlibに似ています。\n",
        "    output = gr.BarPlot(\n",
        "        x=\"x\",\n",
        "        y=\"y\",\n",
        "        tooltip=[\"x\", \"y\"],\n",
        "        width=350,\n",
        "        height=300,\n",
        "    )\n",
        "    #スライダーの値が変化したときのコールバック関数を定義します。\n",
        "    A.change(fn=plot, inputs=[A, B, C], outputs=output)\n",
        "    B.change(fn=plot, inputs=[A, B, C], outputs=output)\n",
        "    C.change(fn=plot, inputs=[A, B, C], outputs=output)\n",
        "\n",
        "demo.launch()"
      ],
      "metadata": {
        "id": "FFDpHJ6wg9wO"
      },
      "execution_count": null,
      "outputs": []
    },
    {
      "cell_type": "markdown",
      "source": [
        "## 画像の処理\n",
        "\n",
        "画像を読み込んでセピア色に変えてみます。"
      ],
      "metadata": {
        "id": "WMdPEmobBalb"
      }
    },
    {
      "cell_type": "code",
      "source": [
        "import numpy as np\n",
        "import gradio as gr\n",
        "\n",
        "# 写真をセピア色に変換しています\n",
        "def sepia(input_img):\n",
        "    sepia_filter = np.array([\n",
        "        [0.393, 0.769, 0.189],\n",
        "        [0.349, 0.686, 0.168],\n",
        "        [0.272, 0.534, 0.131]\n",
        "    ])\n",
        "    sepia_img = input_img.dot(sepia_filter.T)\n",
        "    sepia_img /= sepia_img.max()\n",
        "    return sepia_img\n",
        "\n",
        "demo = gr.Interface(sepia, gr.Image(), outputs=\"image\")\n",
        "demo.launch()"
      ],
      "metadata": {
        "id": "loglWHN2BSQk"
      },
      "execution_count": null,
      "outputs": []
    }
  ]
}